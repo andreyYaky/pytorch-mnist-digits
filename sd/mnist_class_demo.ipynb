{
 "cells": [
  {
   "cell_type": "code",
   "execution_count": 1,
   "metadata": {},
   "outputs": [
    {
     "name": "stdout",
     "output_type": "stream",
     "text": [
      "Using device cuda\n"
     ]
    },
    {
     "ename": "FileNotFoundError",
     "evalue": "[Errno 2] No such file or directory: '../data/state_dictmodel.pt'",
     "output_type": "error",
     "traceback": [
      "\u001b[1;31m---------------------------------------------------------------------------\u001b[0m",
      "\u001b[1;31mFileNotFoundError\u001b[0m                         Traceback (most recent call last)",
      "Cell \u001b[1;32mIn[1], line 21\u001b[0m\n\u001b[0;32m     18\u001b[0m (trainX, trainy), (testX, testy) \u001b[38;5;241m=\u001b[39m load_classifier_data(DEVICE)\n\u001b[0;32m     20\u001b[0m model \u001b[38;5;241m=\u001b[39m UNET_Classifier()\u001b[38;5;241m.\u001b[39mto(DEVICE)\n\u001b[1;32m---> 21\u001b[0m model\u001b[38;5;241m.\u001b[39mload_state_dict(\u001b[43mtorch\u001b[49m\u001b[38;5;241;43m.\u001b[39;49m\u001b[43mload\u001b[49m\u001b[43m(\u001b[49m\u001b[38;5;124;43m\"\u001b[39;49m\u001b[38;5;124;43m../data/state_dictmodel.pt\u001b[39;49m\u001b[38;5;124;43m\"\u001b[39;49m\u001b[43m)\u001b[49m, strict\u001b[38;5;241m=\u001b[39m\u001b[38;5;28;01mTrue\u001b[39;00m)\n\u001b[0;32m     22\u001b[0m model\u001b[38;5;241m.\u001b[39meval()\n\u001b[0;32m     24\u001b[0m \u001b[38;5;28mprint\u001b[39m(model)\n",
      "File \u001b[1;32mc:\\Users\\Andrey\\AppData\\Local\\Programs\\Python\\Python311\\Lib\\site-packages\\torch\\serialization.py:998\u001b[0m, in \u001b[0;36mload\u001b[1;34m(f, map_location, pickle_module, weights_only, mmap, **pickle_load_args)\u001b[0m\n\u001b[0;32m    995\u001b[0m \u001b[38;5;28;01mif\u001b[39;00m \u001b[38;5;124m'\u001b[39m\u001b[38;5;124mencoding\u001b[39m\u001b[38;5;124m'\u001b[39m \u001b[38;5;129;01mnot\u001b[39;00m \u001b[38;5;129;01min\u001b[39;00m pickle_load_args\u001b[38;5;241m.\u001b[39mkeys():\n\u001b[0;32m    996\u001b[0m     pickle_load_args[\u001b[38;5;124m'\u001b[39m\u001b[38;5;124mencoding\u001b[39m\u001b[38;5;124m'\u001b[39m] \u001b[38;5;241m=\u001b[39m \u001b[38;5;124m'\u001b[39m\u001b[38;5;124mutf-8\u001b[39m\u001b[38;5;124m'\u001b[39m\n\u001b[1;32m--> 998\u001b[0m \u001b[38;5;28;01mwith\u001b[39;00m \u001b[43m_open_file_like\u001b[49m\u001b[43m(\u001b[49m\u001b[43mf\u001b[49m\u001b[43m,\u001b[49m\u001b[43m \u001b[49m\u001b[38;5;124;43m'\u001b[39;49m\u001b[38;5;124;43mrb\u001b[39;49m\u001b[38;5;124;43m'\u001b[39;49m\u001b[43m)\u001b[49m \u001b[38;5;28;01mas\u001b[39;00m opened_file:\n\u001b[0;32m    999\u001b[0m     \u001b[38;5;28;01mif\u001b[39;00m _is_zipfile(opened_file):\n\u001b[0;32m   1000\u001b[0m         \u001b[38;5;66;03m# The zipfile reader is going to advance the current file position.\u001b[39;00m\n\u001b[0;32m   1001\u001b[0m         \u001b[38;5;66;03m# If we want to actually tail call to torch.jit.load, we need to\u001b[39;00m\n\u001b[0;32m   1002\u001b[0m         \u001b[38;5;66;03m# reset back to the original position.\u001b[39;00m\n\u001b[0;32m   1003\u001b[0m         orig_position \u001b[38;5;241m=\u001b[39m opened_file\u001b[38;5;241m.\u001b[39mtell()\n",
      "File \u001b[1;32mc:\\Users\\Andrey\\AppData\\Local\\Programs\\Python\\Python311\\Lib\\site-packages\\torch\\serialization.py:445\u001b[0m, in \u001b[0;36m_open_file_like\u001b[1;34m(name_or_buffer, mode)\u001b[0m\n\u001b[0;32m    443\u001b[0m \u001b[38;5;28;01mdef\u001b[39;00m \u001b[38;5;21m_open_file_like\u001b[39m(name_or_buffer, mode):\n\u001b[0;32m    444\u001b[0m     \u001b[38;5;28;01mif\u001b[39;00m _is_path(name_or_buffer):\n\u001b[1;32m--> 445\u001b[0m         \u001b[38;5;28;01mreturn\u001b[39;00m \u001b[43m_open_file\u001b[49m\u001b[43m(\u001b[49m\u001b[43mname_or_buffer\u001b[49m\u001b[43m,\u001b[49m\u001b[43m \u001b[49m\u001b[43mmode\u001b[49m\u001b[43m)\u001b[49m\n\u001b[0;32m    446\u001b[0m     \u001b[38;5;28;01melse\u001b[39;00m:\n\u001b[0;32m    447\u001b[0m         \u001b[38;5;28;01mif\u001b[39;00m \u001b[38;5;124m'\u001b[39m\u001b[38;5;124mw\u001b[39m\u001b[38;5;124m'\u001b[39m \u001b[38;5;129;01min\u001b[39;00m mode:\n",
      "File \u001b[1;32mc:\\Users\\Andrey\\AppData\\Local\\Programs\\Python\\Python311\\Lib\\site-packages\\torch\\serialization.py:426\u001b[0m, in \u001b[0;36m_open_file.__init__\u001b[1;34m(self, name, mode)\u001b[0m\n\u001b[0;32m    425\u001b[0m \u001b[38;5;28;01mdef\u001b[39;00m \u001b[38;5;21m__init__\u001b[39m(\u001b[38;5;28mself\u001b[39m, name, mode):\n\u001b[1;32m--> 426\u001b[0m     \u001b[38;5;28msuper\u001b[39m()\u001b[38;5;241m.\u001b[39m\u001b[38;5;21m__init__\u001b[39m(\u001b[38;5;28;43mopen\u001b[39;49m\u001b[43m(\u001b[49m\u001b[43mname\u001b[49m\u001b[43m,\u001b[49m\u001b[43m \u001b[49m\u001b[43mmode\u001b[49m\u001b[43m)\u001b[49m)\n",
      "\u001b[1;31mFileNotFoundError\u001b[0m: [Errno 2] No such file or directory: '../data/state_dictmodel.pt'"
     ]
    }
   ],
   "source": [
    "from data_loader import load_classifier_data\n",
    "from classifier_models import CNN_Classifier\n",
    "from classifier_models import UNET_Classifier\n",
    "import torch\n",
    "\n",
    "DEVICE = \"cpu\"\n",
    "\n",
    "ALLOW_CUDA = True\n",
    "ALLOW_MPS = False # Metal API for MacOS\n",
    "\n",
    "if torch.cuda.is_available() and ALLOW_CUDA:\n",
    "    DEVICE = \"cuda\"\n",
    "elif (torch.has_mps or torch.backends.mps.is_available()) and ALLOW_MPS:\n",
    "    DEVICE = \"mps\"\n",
    "print(f\"Using device {DEVICE}\")\n",
    "\n",
    "# load dataset\n",
    "(trainX, trainy), (testX, testy) = load_classifier_data(DEVICE)\n",
    "\n",
    "model = UNET_Classifier().to(DEVICE)\n",
    "model.load_state_dict(torch.load(\"../data/state_dict_model.pt\"), strict=True)\n",
    "model.eval()\n",
    "\n",
    "print(model)\n"
   ]
  },
  {
   "cell_type": "code",
   "execution_count": null,
   "metadata": {},
   "outputs": [
    {
     "name": "stderr",
     "output_type": "stream",
     "text": [
      "c:\\Users\\Andrey\\AppData\\Local\\Programs\\Python\\Python311\\Lib\\site-packages\\tqdm\\auto.py:21: TqdmWarning: IProgress not found. Please update jupyter and ipywidgets. See https://ipywidgets.readthedocs.io/en/stable/user_install.html\n",
      "  from .autonotebook import tqdm as notebook_tqdm\n"
     ]
    },
    {
     "name": "stdout",
     "output_type": "stream",
     "text": [
      "Accuracy: 97.10%\n",
      "Accuracy 0: 100 / 103 = 97.09%\n",
      "Accuracy 1: 118 / 119 = 99.16%\n",
      "Accuracy 2: 95 / 99 = 95.96%\n",
      "Accuracy 3: 86 / 89 = 96.63%\n",
      "Accuracy 4: 101 / 106 = 95.28%\n",
      "Accuracy 5: 89 / 93 = 95.70%\n",
      "Accuracy 6: 101 / 104 = 97.12%\n",
      "Accuracy 7: 87 / 91 = 95.60%\n",
      "Accuracy 8: 92 / 92 = 100.00%\n",
      "Accuracy 9: 102 / 104 = 98.08%\n",
      "Predicted: 0, target: 0 True\n",
      "Predicted: 9, target: 4 False\n",
      "Predicted: 1, target: 1 True\n",
      "Predicted: 0, target: 0 True\n",
      "Predicted: 5, target: 5 True\n",
      "Predicted: 2, target: 2 True\n",
      "Predicted: 6, target: 6 True\n",
      "Predicted: 9, target: 9 True\n",
      "Predicted: 1, target: 1 True\n"
     ]
    },
    {
     "data": {
      "image/png": "[encoded data removed]",
      "text/plain": [
       "<Figure size 640x480 with 9 Axes>"
      ]
     },
     "metadata": {},
     "output_type": "display_data"
    }
   ],
   "source": [
    "from matplotlib import pyplot as plt\n",
    "import torchmetrics\n",
    "import numpy as np\n",
    "\n",
    "model.eval()\n",
    "\n",
    "# demo batch\n",
    "demo_batch_size = 1000\n",
    "ri = np.random.permutation(testX.shape[0])[:demo_batch_size]\n",
    "inputs, targets = testX[ri], testy[ri]\n",
    "\n",
    "predictions = model(inputs)\n",
    "\n",
    "# get accuracy\n",
    "label_predictions = torch.argmax(predictions, dim=1)\n",
    "accuracy = torchmetrics.Accuracy(task='multiclass', num_classes=10).to(DEVICE)\n",
    "acc = accuracy(predictions, targets)\n",
    "print(f\"Accuracy: {acc * 100:.2f}%\")\n",
    "\n",
    "# get per-digit accuracy\n",
    "correct = np.zeros(10)\n",
    "total = np.zeros(10)\n",
    "for i in range(demo_batch_size):\n",
    "    #print(f\"Predicted: {label_predictions[i]}, target: {targets[i]} {label_predictions[i] == targets[i]}\")\n",
    "    total[targets[i]] += 1\n",
    "    correct[targets[i]] += (label_predictions[i] == targets[i])\n",
    "\n",
    "digit_acc = correct / total * 100\n",
    "for i in range(10):\n",
    "    print(f\"Accuracy {i}: {correct[i]:.0f} / {total[i]:.0f} = {digit_acc[i]:.2f}%\")\n",
    "\n",
    "# plot up to 9 images\n",
    "for i in range(min(demo_batch_size, 9)):\n",
    "    print(f\"Predicted: {label_predictions[i]}, target: {targets[i]} {label_predictions[i] == targets[i]}\")\n",
    "    # define subplot\n",
    "    plt.subplot(330 + 1 + i)\n",
    "    # plot raw pixel data\n",
    "    plt.imshow(inputs[i].squeeze().cpu(), cmap=plt.get_cmap('gray'))\n",
    "# show the figure\n",
    "plt.show()"
   ]
  },
  {
   "cell_type": "code",
   "execution_count": null,
   "metadata": {},
   "outputs": [
    {
     "name": "stdout",
     "output_type": "stream",
     "text": [
      "Input: torch.Size([1, 1, 28, 28])\n",
      "Pred: torch.Size([1, 10])\n",
      "Label: tensor([5], device='cuda:0')\n",
      "Label[0]: 5\n"
     ]
    },
    {
     "data": {
      "text/plain": [
       "<matplotlib.image.AxesImage at 0x154402795d0>"
      ]
     },
     "execution_count": 4,
     "metadata": {},
     "output_type": "execute_result"
    },
    {
     "data": {
      "image/png": "[encoded data removed]",
      "text/plain": [
       "<Figure size 640x480 with 1 Axes>"
      ]
     },
     "metadata": {},
     "output_type": "display_data"
    }
   ],
   "source": [
    "from data_loader import load_classifier_image\n",
    "\n",
    "input_image_tensor = load_classifier_image(\"../data/digit.jpg\", DEVICE)\n",
    "\n",
    "pred = model(input_image_tensor)\n",
    "label_pred = torch.argmax(pred, dim=1)\n",
    "\n",
    "print(f\"Input: {input_image_tensor.shape}\")\n",
    "print(f\"Pred: {pred.shape}\")\n",
    "print(f\"Label: {label_pred}\")\n",
    "print(f\"Label[0]: {label_pred[0]}\")\n",
    "\n",
    "# define subplot\n",
    "plt.subplot(330 + 1)\n",
    "# plot raw pixel data\n",
    "plt.imshow(input_image_tensor.squeeze().cpu(), cmap=plt.get_cmap('gray'))"
   ]
  }
 ],
 "metadata": {
  "kernelspec": {
   "display_name": "Python 3",
   "language": "python",
   "name": "python3"
  },
  "language_info": {
   "codemirror_mode": {
    "name": "ipython",
    "version": 3
   },
   "file_extension": ".py",
   "mimetype": "text/x-python",
   "name": "python",
   "nbconvert_exporter": "python",
   "pygments_lexer": "ipython3",
   "version": "3.11.0"
  }
 },
 "nbformat": 4,
 "nbformat_minor": 2
}
