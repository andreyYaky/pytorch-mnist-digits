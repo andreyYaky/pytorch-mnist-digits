{
 "cells": [
  {
   "cell_type": "code",
   "execution_count": 2,
   "metadata": {},
   "outputs": [
    {
     "name": "stdout",
     "output_type": "stream",
     "text": [
      "Using device cuda\n",
      "UNET_Classifier(\n",
      "  (0): Conv2d(1, 32, kernel_size=(3, 3), stride=(1, 1), padding=(1, 1))\n",
      "  (1): ReLU()\n",
      "  (2): UNETAttentionBlock(\n",
      "    (groupnorm): GroupNorm(32, 32, eps=1e-05, affine=True)\n",
      "    (conv_input): Conv2d(32, 32, kernel_size=(1, 1), stride=(1, 1))\n",
      "    (layernorm1): LayerNorm((32,), eps=1e-05, elementwise_affine=True)\n",
      "    (self_attention): MultiheadAttention(\n",
      "      (out_proj): NonDynamicallyQuantizableLinear(in_features=32, out_features=32, bias=True)\n",
      "    )\n",
      "    (conv_output): Conv2d(32, 32, kernel_size=(1, 1), stride=(1, 1))\n",
      "  )\n",
      "  (3): MaxPool2d(kernel_size=2, stride=2, padding=0, dilation=1, ceil_mode=False)\n",
      "  (4): Flatten(start_dim=1, end_dim=-1)\n",
      "  (5): Linear(in_features=6272, out_features=128, bias=True)\n",
      "  (6): ReLU()\n",
      "  (7): Linear(in_features=128, out_features=10, bias=True)\n",
      "  (8): LogSoftmax(dim=1)\n",
      ")\n"
     ]
    }
   ],
   "source": [
    "from data_loader import load_classifier_data\n",
    "from classifier_models import CNN_Classifier\n",
    "from classifier_models import UNET_Classifier\n",
    "import torch\n",
    "\n",
    "DEVICE = \"cpu\"\n",
    "\n",
    "ALLOW_CUDA = True\n",
    "ALLOW_MPS = False # Metal API for MacOS\n",
    "\n",
    "if torch.cuda.is_available() and ALLOW_CUDA:\n",
    "    DEVICE = \"cuda\"\n",
    "elif (torch.has_mps or torch.backends.mps.is_available()) and ALLOW_MPS:\n",
    "    DEVICE = \"mps\"\n",
    "print(f\"Using device {DEVICE}\")\n",
    "\n",
    "# load dataset\n",
    "(trainX, trainy), (testX, testy) = load_classifier_data(DEVICE)\n",
    "\n",
    "model = UNET_Classifier().to(DEVICE)\n",
    "model.load_state_dict(torch.load(\"./data/state_dict_model.pt\"), strict=True)\n",
    "model.eval()\n",
    "\n",
    "print(model)\n"
   ]
  },
  {
   "cell_type": "code",
   "execution_count": 3,
   "metadata": {},
   "outputs": [
    {
     "name": "stderr",
     "output_type": "stream",
     "text": [
      "c:\\Users\\Andrey\\AppData\\Local\\Programs\\Python\\Python311\\Lib\\site-packages\\tqdm\\auto.py:21: TqdmWarning: IProgress not found. Please update jupyter and ipywidgets. See https://ipywidgets.readthedocs.io/en/stable/user_install.html\n",
      "  from .autonotebook import tqdm as notebook_tqdm\n",
      "c:\\Users\\Andrey\\AppData\\Local\\Programs\\Python\\Python311\\Lib\\site-packages\\torch\\nn\\functional.py:5476: UserWarning: 1Torch was not compiled with flash attention. (Triggered internally at ..\\aten\\src\\ATen\\native\\transformers\\cuda\\sdp_utils.cpp:263.)\n",
      "  attn_output = scaled_dot_product_attention(q, k, v, attn_mask, dropout_p, is_causal)\n"
     ]
    },
    {
     "name": "stdout",
     "output_type": "stream",
     "text": [
      "Accuracy: 95.20%\n",
      "Accuracy 0: 101 / 103 = 98.06%\n",
      "Accuracy 1: 118 / 119 = 99.16%\n",
      "Accuracy 2: 83 / 86 = 96.51%\n",
      "Accuracy 3: 88 / 96 = 91.67%\n",
      "Accuracy 4: 94 / 96 = 97.92%\n",
      "Accuracy 5: 96 / 103 = 93.20%\n",
      "Accuracy 6: 102 / 103 = 99.03%\n",
      "Accuracy 7: 92 / 98 = 93.88%\n",
      "Accuracy 8: 88 / 95 = 92.63%\n",
      "Accuracy 9: 90 / 101 = 89.11%\n",
      "Predicted: 5, target: 5 True\n",
      "Predicted: 6, target: 6 True\n",
      "Predicted: 8, target: 8 True\n",
      "Predicted: 2, target: 2 True\n",
      "Predicted: 4, target: 4 True\n",
      "Predicted: 5, target: 5 True\n",
      "Predicted: 3, target: 3 True\n",
      "Predicted: 0, target: 0 True\n",
      "Predicted: 8, target: 8 True\n"
     ]
    },
    {
     "data": {
      "image/png": "[encoded data removed]",
      "text/plain": [
       "<Figure size 640x480 with 9 Axes>"
      ]
     },
     "metadata": {},
     "output_type": "display_data"
    }
   ],
   "source": [
    "from matplotlib import pyplot as plt\n",
    "import torchmetrics\n",
    "import numpy as np\n",
    "\n",
    "model.eval()\n",
    "\n",
    "# demo batch\n",
    "demo_batch_size = 1000\n",
    "ri = np.random.permutation(testX.shape[0])[:demo_batch_size]\n",
    "inputs, targets = testX[ri], testy[ri]\n",
    "\n",
    "predictions = model(inputs)\n",
    "\n",
    "# get accuracy\n",
    "label_predictions = torch.argmax(predictions, dim=1)\n",
    "accuracy = torchmetrics.Accuracy(task='multiclass', num_classes=10).to(DEVICE)\n",
    "acc = accuracy(predictions, targets)\n",
    "print(f\"Accuracy: {acc * 100:.2f}%\")\n",
    "\n",
    "# get per-digit accuracy\n",
    "correct = np.zeros(10)\n",
    "total = np.zeros(10)\n",
    "for i in range(demo_batch_size):\n",
    "    #print(f\"Predicted: {label_predictions[i]}, target: {targets[i]} {label_predictions[i] == targets[i]}\")\n",
    "    total[targets[i]] += 1\n",
    "    correct[targets[i]] += (label_predictions[i] == targets[i])\n",
    "\n",
    "digit_acc = correct / total * 100\n",
    "for i in range(10):\n",
    "    print(f\"Accuracy {i}: {correct[i]:.0f} / {total[i]:.0f} = {digit_acc[i]:.2f}%\")\n",
    "\n",
    "# plot up to 9 images\n",
    "for i in range(min(demo_batch_size, 9)):\n",
    "    print(f\"Predicted: {label_predictions[i]}, target: {targets[i]} {label_predictions[i] == targets[i]}\")\n",
    "    # define subplot\n",
    "    plt.subplot(330 + 1 + i)\n",
    "    # plot raw pixel data\n",
    "    plt.imshow(inputs[i].squeeze().cpu(), cmap=plt.get_cmap('gray'))\n",
    "# show the figure\n",
    "plt.show()"
   ]
  },
  {
   "cell_type": "code",
   "execution_count": 4,
   "metadata": {},
   "outputs": [
    {
     "ename": "FileNotFoundError",
     "evalue": "[Errno 2] No such file or directory: '../data/digit.jpg'",
     "output_type": "error",
     "traceback": [
      "\u001b[1;31m---------------------------------------------------------------------------\u001b[0m",
      "\u001b[1;31mFileNotFoundError\u001b[0m                         Traceback (most recent call last)",
      "Cell \u001b[1;32mIn[4], line 3\u001b[0m\n\u001b[0;32m      1\u001b[0m \u001b[38;5;28;01mfrom\u001b[39;00m \u001b[38;5;21;01mdata_loader\u001b[39;00m \u001b[38;5;28;01mimport\u001b[39;00m load_classifier_image\n\u001b[1;32m----> 3\u001b[0m input_image_tensor \u001b[38;5;241m=\u001b[39m \u001b[43mload_classifier_image\u001b[49m\u001b[43m(\u001b[49m\u001b[38;5;124;43m\"\u001b[39;49m\u001b[38;5;124;43m../data/digit.jpg\u001b[39;49m\u001b[38;5;124;43m\"\u001b[39;49m\u001b[43m,\u001b[49m\u001b[43m \u001b[49m\u001b[43mDEVICE\u001b[49m\u001b[43m)\u001b[49m\n\u001b[0;32m      5\u001b[0m pred \u001b[38;5;241m=\u001b[39m model(input_image_tensor)\n\u001b[0;32m      6\u001b[0m label_pred \u001b[38;5;241m=\u001b[39m torch\u001b[38;5;241m.\u001b[39margmax(pred, dim\u001b[38;5;241m=\u001b[39m\u001b[38;5;241m1\u001b[39m)\n",
      "File \u001b[1;32mc:\\Users\\Andrey\\Documents\\GitRepos\\pytorch-mnist-digits\\data_loader.py:31\u001b[0m, in \u001b[0;36mload_classifier_image\u001b[1;34m(image_path, device)\u001b[0m\n\u001b[0;32m     29\u001b[0m \u001b[38;5;28;01mdef\u001b[39;00m \u001b[38;5;21mload_classifier_image\u001b[39m(image_path: \u001b[38;5;28mstr\u001b[39m, device\u001b[38;5;241m=\u001b[39m\u001b[38;5;28;01mNone\u001b[39;00m) \u001b[38;5;241m-\u001b[39m\u001b[38;5;241m>\u001b[39m torch\u001b[38;5;241m.\u001b[39mTensor:\n\u001b[1;32m---> 31\u001b[0m     input_image \u001b[38;5;241m=\u001b[39m \u001b[43mImage\u001b[49m\u001b[38;5;241;43m.\u001b[39;49m\u001b[43mopen\u001b[49m\u001b[43m(\u001b[49m\u001b[43mimage_path\u001b[49m\u001b[43m)\u001b[49m\n\u001b[0;32m     33\u001b[0m     input_image_tensor \u001b[38;5;241m=\u001b[39m input_image\u001b[38;5;241m.\u001b[39mresize((\u001b[38;5;241m28\u001b[39m, \u001b[38;5;241m28\u001b[39m))\n\u001b[0;32m     34\u001b[0m     input_image_tensor \u001b[38;5;241m=\u001b[39m np\u001b[38;5;241m.\u001b[39marray(input_image_tensor)\n",
      "File \u001b[1;32mc:\\Users\\Andrey\\AppData\\Local\\Programs\\Python\\Python311\\Lib\\site-packages\\PIL\\Image.py:3247\u001b[0m, in \u001b[0;36mopen\u001b[1;34m(fp, mode, formats)\u001b[0m\n\u001b[0;32m   3244\u001b[0m     filename \u001b[38;5;241m=\u001b[39m fp\n\u001b[0;32m   3246\u001b[0m \u001b[38;5;28;01mif\u001b[39;00m filename:\n\u001b[1;32m-> 3247\u001b[0m     fp \u001b[38;5;241m=\u001b[39m \u001b[43mbuiltins\u001b[49m\u001b[38;5;241;43m.\u001b[39;49m\u001b[43mopen\u001b[49m\u001b[43m(\u001b[49m\u001b[43mfilename\u001b[49m\u001b[43m,\u001b[49m\u001b[43m \u001b[49m\u001b[38;5;124;43m\"\u001b[39;49m\u001b[38;5;124;43mrb\u001b[39;49m\u001b[38;5;124;43m\"\u001b[39;49m\u001b[43m)\u001b[49m\n\u001b[0;32m   3248\u001b[0m     exclusive_fp \u001b[38;5;241m=\u001b[39m \u001b[38;5;28;01mTrue\u001b[39;00m\n\u001b[0;32m   3250\u001b[0m \u001b[38;5;28;01mtry\u001b[39;00m:\n",
      "\u001b[1;31mFileNotFoundError\u001b[0m: [Errno 2] No such file or directory: '../data/digit.jpg'"
     ]
    }
   ],
   "source": [
    "from data_loader import load_classifier_image\n",
    "\n",
    "input_image_tensor = load_classifier_image(\"./data/digit.jpg\", DEVICE)\n",
    "\n",
    "pred = model(input_image_tensor)\n",
    "label_pred = torch.argmax(pred, dim=1)\n",
    "\n",
    "print(f\"Input: {input_image_tensor.shape}\")\n",
    "print(f\"Pred: {pred.shape}\")\n",
    "print(f\"Label: {label_pred}\")\n",
    "print(f\"Label[0]: {label_pred[0]}\")\n",
    "\n",
    "# define subplot\n",
    "plt.subplot(330 + 1)\n",
    "# plot raw pixel data\n",
    "plt.imshow(input_image_tensor.squeeze().cpu(), cmap=plt.get_cmap('gray'))"
   ]
  }
 ],
 "metadata": {
  "kernelspec": {
   "display_name": "Python 3",
   "language": "python",
   "name": "python3"
  },
  "language_info": {
   "codemirror_mode": {
    "name": "ipython",
    "version": 3
   },
   "file_extension": ".py",
   "mimetype": "text/x-python",
   "name": "python",
   "nbconvert_exporter": "python",
   "pygments_lexer": "ipython3",
   "version": "3.11.0"
  }
 },
 "nbformat": 4,
 "nbformat_minor": 2
}
