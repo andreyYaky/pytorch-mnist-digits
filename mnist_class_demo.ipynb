{
 "cells": [
  {
   "cell_type": "code",
   "execution_count": 5,
   "metadata": {},
   "outputs": [
    {
     "name": "stdout",
     "output_type": "stream",
     "text": [
      "Using device cuda\n",
      "UNET_Classifier(\n",
      "  (0): Conv2d(1, 32, kernel_size=(3, 3), stride=(1, 1), padding=(1, 1))\n",
      "  (1): ReLU()\n",
      "  (2): UNETAttentionBlock(\n",
      "    (groupnorm): GroupNorm(32, 32, eps=1e-05, affine=True)\n",
      "    (conv_input): Conv2d(32, 32, kernel_size=(1, 1), stride=(1, 1))\n",
      "    (layernorm1): LayerNorm((32,), eps=1e-05, elementwise_affine=True)\n",
      "    (self_attention): MultiheadAttention(\n",
      "      (out_proj): NonDynamicallyQuantizableLinear(in_features=32, out_features=32, bias=True)\n",
      "    )\n",
      "    (conv_output): Conv2d(32, 32, kernel_size=(1, 1), stride=(1, 1))\n",
      "  )\n",
      "  (3): MaxPool2d(kernel_size=2, stride=2, padding=0, dilation=1, ceil_mode=False)\n",
      "  (4): Flatten(start_dim=1, end_dim=-1)\n",
      "  (5): Linear(in_features=6272, out_features=128, bias=True)\n",
      "  (6): ReLU()\n",
      "  (7): Linear(in_features=128, out_features=10, bias=True)\n",
      "  (8): LogSoftmax(dim=1)\n",
      ")\n"
     ]
    }
   ],
   "source": [
    "from data_loader import load_classifier_data\n",
    "from classifier_models import CNN_Classifier\n",
    "from classifier_models import UNET_Classifier\n",
    "import torch\n",
    "\n",
    "DEVICE = \"cpu\"\n",
    "\n",
    "ALLOW_CUDA = True\n",
    "ALLOW_MPS = False # Metal API for MacOS\n",
    "\n",
    "if torch.cuda.is_available() and ALLOW_CUDA:\n",
    "    DEVICE = \"cuda\"\n",
    "elif (torch.has_mps or torch.backends.mps.is_available()) and ALLOW_MPS:\n",
    "    DEVICE = \"mps\"\n",
    "print(f\"Using device {DEVICE}\")\n",
    "\n",
    "# load dataset\n",
    "(trainX, trainy), (testX, testy) = load_classifier_data(DEVICE)\n",
    "\n",
    "model = UNET_Classifier().to(DEVICE)\n",
    "model.load_state_dict(torch.load(\"./data/state_dict_model.pt\"), strict=True)\n",
    "model.eval()\n",
    "\n",
    "print(model)\n"
   ]
  },
  {
   "cell_type": "code",
   "execution_count": 6,
   "metadata": {},
   "outputs": [
    {
     "name": "stdout",
     "output_type": "stream",
     "text": [
      "Accuracy: 94.90%\n",
      "Accuracy 0: 96 / 100 = 96.00%\n",
      "Accuracy 1: 94 / 96 = 97.92%\n",
      "Accuracy 2: 123 / 126 = 97.62%\n",
      "Accuracy 3: 90 / 100 = 90.00%\n",
      "Accuracy 4: 88 / 93 = 94.62%\n",
      "Accuracy 5: 87 / 91 = 95.60%\n",
      "Accuracy 6: 87 / 87 = 100.00%\n",
      "Accuracy 7: 90 / 93 = 96.77%\n",
      "Accuracy 8: 98 / 109 = 89.91%\n",
      "Accuracy 9: 96 / 105 = 91.43%\n",
      "Predicted: 3, target: 3 True\n",
      "Predicted: 4, target: 4 True\n",
      "Predicted: 4, target: 4 True\n",
      "Predicted: 2, target: 2 True\n",
      "Predicted: 9, target: 9 True\n",
      "Predicted: 0, target: 0 True\n",
      "Predicted: 6, target: 6 True\n",
      "Predicted: 1, target: 1 True\n",
      "Predicted: 2, target: 2 True\n"
     ]
    },
    {
     "data": {
      "image/png": "[encoded data removed]",
      "text/plain": [
       "<Figure size 640x480 with 9 Axes>"
      ]
     },
     "metadata": {},
     "output_type": "display_data"
    }
   ],
   "source": [
    "from matplotlib import pyplot as plt\n",
    "import torchmetrics\n",
    "import numpy as np\n",
    "\n",
    "model.eval()\n",
    "\n",
    "# demo batch\n",
    "demo_batch_size = 1000\n",
    "ri = np.random.permutation(testX.shape[0])[:demo_batch_size]\n",
    "inputs, targets = testX[ri], testy[ri]\n",
    "\n",
    "predictions = model(inputs)\n",
    "\n",
    "# get accuracy\n",
    "label_predictions = torch.argmax(predictions, dim=1)\n",
    "accuracy = torchmetrics.Accuracy(task='multiclass', num_classes=10).to(DEVICE)\n",
    "acc = accuracy(predictions, targets)\n",
    "print(f\"Accuracy: {acc * 100:.2f}%\")\n",
    "\n",
    "# get per-digit accuracy\n",
    "correct = np.zeros(10)\n",
    "total = np.zeros(10)\n",
    "for i in range(demo_batch_size):\n",
    "    #print(f\"Predicted: {label_predictions[i]}, target: {targets[i]} {label_predictions[i] == targets[i]}\")\n",
    "    total[targets[i]] += 1\n",
    "    correct[targets[i]] += (label_predictions[i] == targets[i])\n",
    "\n",
    "digit_acc = correct / total * 100\n",
    "for i in range(10):\n",
    "    print(f\"Accuracy {i}: {correct[i]:.0f} / {total[i]:.0f} = {digit_acc[i]:.2f}%\")\n",
    "\n",
    "# plot up to 9 images\n",
    "for i in range(min(demo_batch_size, 9)):\n",
    "    print(f\"Predicted: {label_predictions[i]}, target: {targets[i]} {label_predictions[i] == targets[i]}\")\n",
    "    # define subplot\n",
    "    plt.subplot(330 + 1 + i)\n",
    "    # plot raw pixel data\n",
    "    plt.imshow(inputs[i].squeeze().cpu(), cmap=plt.get_cmap('gray'))\n",
    "# show the figure\n",
    "plt.show()"
   ]
  },
  {
   "cell_type": "code",
   "execution_count": 7,
   "metadata": {},
   "outputs": [
    {
     "name": "stdout",
     "output_type": "stream",
     "text": [
      "Input: torch.Size([1, 1, 28, 28])\n",
      "Pred: torch.Size([1, 10])\n",
      "Label: tensor([3], device='cuda:0')\n",
      "Label[0]: 3\n"
     ]
    },
    {
     "data": {
      "text/plain": [
       "<matplotlib.image.AxesImage at 0x1588e01c110>"
      ]
     },
     "execution_count": 7,
     "metadata": {},
     "output_type": "execute_result"
    },
    {
     "data": {
      "image/png": "[encoded data removed]",
      "text/plain": [
       "<Figure size 640x480 with 1 Axes>"
      ]
     },
     "metadata": {},
     "output_type": "display_data"
    }
   ],
   "source": [
    "from data_loader import load_classifier_image\n",
    "\n",
    "input_image_tensor = load_classifier_image(\"./data/digit.jpg\", DEVICE)\n",
    "\n",
    "pred = model(input_image_tensor)\n",
    "label_pred = torch.argmax(pred, dim=1)\n",
    "\n",
    "print(f\"Input: {input_image_tensor.shape}\")\n",
    "print(f\"Pred: {pred.shape}\")\n",
    "print(f\"Label: {label_pred}\")\n",
    "print(f\"Label[0]: {label_pred[0]}\")\n",
    "\n",
    "# define subplot\n",
    "plt.subplot(330 + 1)\n",
    "# plot raw pixel data\n",
    "plt.imshow(input_image_tensor.squeeze().cpu(), cmap=plt.get_cmap('gray'))"
   ]
  }
 ],
 "metadata": {
  "kernelspec": {
   "display_name": "Python 3",
   "language": "python",
   "name": "python3"
  },
  "language_info": {
   "codemirror_mode": {
    "name": "ipython",
    "version": 3
   },
   "file_extension": ".py",
   "mimetype": "text/x-python",
   "name": "python",
   "nbconvert_exporter": "python",
   "pygments_lexer": "ipython3",
   "version": "3.11.0"
  }
 },
 "nbformat": 4,
 "nbformat_minor": 2
}
